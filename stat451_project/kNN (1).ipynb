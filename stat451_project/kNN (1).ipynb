{
 "cells": [
  {
   "cell_type": "code",
   "execution_count": 14,
   "id": "a1b049bf-571b-4075-aa66-2afcdee7d49d",
   "metadata": {},
   "outputs": [],
   "source": [
    "import numpy as np\n",
    "import pandas as pd\n",
    "import matplotlib.pyplot as plt\n",
    "from sklearn.neighbors import KNeighborsClassifier\n",
    "from sklearn.neighbors import KNeighborsRegressor\n",
    "from io import StringIO\n",
    "import clean as c\n",
    "from sklearn.preprocessing import MinMaxScaler\n",
    "from sklearn.model_selection import train_test_split\n",
    "from sklearn.model_selection import GridSearchCV\n",
    "from sklearn.linear_model import LogisticRegression"
   ]
  },
  {
   "cell_type": "code",
   "execution_count": 15,
   "id": "2551f359-9849-47c5-969a-53a3ab418733",
   "metadata": {},
   "outputs": [],
   "source": [
    "df = c.df_b\n",
    "df1 = c.df1\n",
    "df2 = c.df2"
   ]
  },
  {
   "cell_type": "code",
   "execution_count": 16,
   "id": "83d59df8-26be-4c67-b617-f4174ebf534d",
   "metadata": {},
   "outputs": [
    {
     "data": {
      "text/plain": [
       "['Symptom Severity (1-10)',\n",
       " 'Sleep Quality (1-10)',\n",
       " 'Mood Score (1-10)',\n",
       " 'Stress Level (1-10)',\n",
       " 'Treatment Progress (1-10)',\n",
       " 'Med_n',\n",
       " 'Therapy_n',\n",
       " 'Emot_n',\n",
       " 'Diag_n']"
      ]
     },
     "execution_count": 16,
     "metadata": {},
     "output_type": "execute_result"
    }
   ],
   "source": [
    "feats = c.feats\n",
    "feats"
   ]
  },
  {
   "cell_type": "markdown",
   "id": "e3b035cb-e016-4771-b318-6571502d7075",
   "metadata": {},
   "source": [
    "# Using KNN as a Classifier"
   ]
  },
  {
   "cell_type": "code",
   "execution_count": 17,
   "id": "a540f74f-b3cd-43af-9eb6-99d2a157e950",
   "metadata": {},
   "outputs": [],
   "source": [
    "X = df1[feats]\n",
    "y = df1['Out_b']\n",
    "\n",
    "scaler = MinMaxScaler()\n",
    "X_scaled = scaler.fit_transform(X)\n",
    "\n",
    "X_train, X_test, y_train, y_test = train_test_split(X_scaled, y, test_size=0.2, random_state=42)"
   ]
  },
  {
   "cell_type": "code",
   "execution_count": 18,
   "id": "3ff8aa48-31d2-4a0e-aa7e-8af2b3f79866",
   "metadata": {},
   "outputs": [
    {
     "name": "stdout",
     "output_type": "stream",
     "text": [
      "KNN Training Accuracy: 0.753\n",
      "KNN Testing Accuracy: 0.455\n"
     ]
    }
   ],
   "source": [
    "knn = KNeighborsClassifier(n_neighbors=3)\n",
    "knn.fit(X_train, y_train)\n",
    "\n",
    "train_accuracy = knn.score(X_train, y_train)\n",
    "test_accuracy = knn.score(X_test, y_test)\n",
    "\n",
    "print(f\"KNN Training Accuracy: {train_accuracy:.3f}\")\n",
    "print(f\"KNN Testing Accuracy: {test_accuracy:.3f}\")"
   ]
  },
  {
   "cell_type": "markdown",
   "id": "73c23575-b746-46b0-b6f2-9de8e4079206",
   "metadata": {},
   "source": [
    "Overfitting. Model performs well on training data but struggles to generalize the test set."
   ]
  },
  {
   "cell_type": "markdown",
   "id": "8d002def-5cfe-4160-9e0a-6dd45cceb4f0",
   "metadata": {},
   "source": [
    "# Tune Hyperparameters"
   ]
  },
  {
   "cell_type": "code",
   "execution_count": 19,
   "id": "9260364d-1a1a-4620-bd8b-45bf861487b2",
   "metadata": {},
   "outputs": [
    {
     "name": "stdout",
     "output_type": "stream",
     "text": [
      "Best Parameters: {'metric': 'manhattan', 'n_neighbors': 18}\n",
      "Best Cross-Validation Accuracy: 0.544\n"
     ]
    }
   ],
   "source": [
    "param_grid = {\n",
    "    'n_neighbors': range(1, 20),  # Test k values from 1 to 20\n",
    "    'metric': ['euclidean', 'manhattan', 'minkowski']\n",
    "}\n",
    "\n",
    "# Grid search with cross-validation\n",
    "grid_search = GridSearchCV(\n",
    "    KNeighborsClassifier(),\n",
    "    param_grid,\n",
    "    cv=5,\n",
    "    scoring='accuracy'\n",
    ")\n",
    "grid_search.fit(X_scaled, y)\n",
    "\n",
    "# Best parameters and accuracy\n",
    "print(f\"Best Parameters: {grid_search.best_params_}\")\n",
    "print(f\"Best Cross-Validation Accuracy: {grid_search.best_score_:.3f}\")"
   ]
  },
  {
   "cell_type": "markdown",
   "id": "bcc76411-e5d5-4592-98a8-bee7e2e67398",
   "metadata": {},
   "source": [
    "Best distance metric is Eclidiean, and the optimal k = 10, meaning that the classifier considers the 10 nearest neighbors for predictions.\n",
    "\n",
    "Cross validation score, the average accuracy across data subset indicates moderate improvement over the untuned model."
   ]
  },
  {
   "cell_type": "code",
   "execution_count": 20,
   "id": "50a46bf6-89ea-4ed9-9828-379762687292",
   "metadata": {},
   "outputs": [
    {
     "name": "stdout",
     "output_type": "stream",
     "text": [
      "Best KNN Testing Accuracy: 0.591\n"
     ]
    }
   ],
   "source": [
    "best_knn = grid_search.best_estimator_\n",
    "test_accuracy = best_knn.score(X_test, y_test)\n",
    "print(f\"Best KNN Testing Accuracy: {test_accuracy:.3f}\")"
   ]
  },
  {
   "cell_type": "markdown",
   "id": "57d199ca-32ac-4c50-951a-d83126c276ab",
   "metadata": {},
   "source": [
    "After tuning the arrucary improves, indicates that the model generalizes better with optimal hyperparameters. "
   ]
  },
  {
   "cell_type": "markdown",
   "id": "3fe34713-04c7-4df5-9b0e-b411bd7d3980",
   "metadata": {},
   "source": [
    "Overall, the tuned model reduced overfitting by increasing k, which smooths the deciion boundary and makes the model less sensitive to noise in the training data. \n"
   ]
  },
  {
   "cell_type": "code",
   "execution_count": null,
   "id": "a91a131a-000d-4425-a527-ae2393c5c1f0",
   "metadata": {},
   "outputs": [],
   "source": []
  },
  {
   "cell_type": "markdown",
   "id": "0950c535-4232-42df-b4be-321d02b7f3e9",
   "metadata": {},
   "source": [
    "## Testing Binary measure 2: no change and deter"
   ]
  },
  {
   "cell_type": "code",
   "execution_count": 21,
   "id": "34a51e01-7831-4764-9d95-abc93a29ef1a",
   "metadata": {},
   "outputs": [],
   "source": [
    "X = df2[feats]\n",
    "y = df2['Outcome']\n",
    "\n",
    "scaler = MinMaxScaler()\n",
    "X_scaled = scaler.fit_transform(X)\n",
    "\n",
    "X_train, X_test, y_train, y_test = train_test_split(X_scaled, y, test_size=0.2, random_state=42)"
   ]
  },
  {
   "cell_type": "code",
   "execution_count": 22,
   "id": "4aa89ba8-d72b-4ed7-bcb3-5d4196257538",
   "metadata": {},
   "outputs": [
    {
     "name": "stdout",
     "output_type": "stream",
     "text": [
      "KNN Training Accuracy: 0.716\n",
      "KNN Testing Accuracy: 0.621\n"
     ]
    }
   ],
   "source": [
    "knn = KNeighborsClassifier(n_neighbors=3)\n",
    "knn.fit(X_train, y_train)\n",
    "\n",
    "train_accuracy = knn.score(X_train, y_train)\n",
    "test_accuracy = knn.score(X_test, y_test)\n",
    "\n",
    "print(f\"KNN Training Accuracy: {train_accuracy:.3f}\")\n",
    "print(f\"KNN Testing Accuracy: {test_accuracy:.3f}\")"
   ]
  },
  {
   "cell_type": "code",
   "execution_count": 23,
   "id": "e5354f43-0179-44ad-bf73-f33e04168ed1",
   "metadata": {},
   "outputs": [
    {
     "name": "stdout",
     "output_type": "stream",
     "text": [
      "Best Parameters: {'metric': 'manhattan', 'n_neighbors': 16}\n",
      "Best Cross-Validation Accuracy: 0.567\n"
     ]
    }
   ],
   "source": [
    "param_grid = {\n",
    "    'n_neighbors': range(1, 20),  # Test k values from 1 to 20\n",
    "    'metric': ['euclidean', 'manhattan', 'minkowski']\n",
    "}\n",
    "\n",
    "# Grid search with cross-validation\n",
    "grid_search = GridSearchCV(\n",
    "    KNeighborsClassifier(),\n",
    "    param_grid,\n",
    "    cv=5,\n",
    "    scoring='accuracy'\n",
    ")\n",
    "grid_search.fit(X_scaled, y)\n",
    "\n",
    "# Best parameters and accuracy\n",
    "print(f\"Best Parameters: {grid_search.best_params_}\")\n",
    "print(f\"Best Cross-Validation Accuracy: {grid_search.best_score_:.3f}\")"
   ]
  },
  {
   "cell_type": "code",
   "execution_count": 24,
   "id": "7190341d-c0d1-447d-a6cd-22966e3246eb",
   "metadata": {},
   "outputs": [
    {
     "name": "stdout",
     "output_type": "stream",
     "text": [
      "Best KNN Testing Accuracy: 0.545\n"
     ]
    }
   ],
   "source": [
    "best_knn = grid_search.best_estimator_\n",
    "test_accuracy = best_knn.score(X_test, y_test)\n",
    "print(f\"Best KNN Testing Accuracy: {test_accuracy:.3f}\")"
   ]
  },
  {
   "cell_type": "markdown",
   "id": "32c109ca-6723-4eb1-912f-166f8d04f23c",
   "metadata": {},
   "source": [
    "Overfitting in Initial Model:\n",
    "\n",
    "The initial model (k=3) overfits slightly but performs better on the test set compared to the tuned model.\n",
    "Impact of Hyperparameter Tuning:\n",
    "\n",
    "Increasing \n",
    "𝑘\n",
    "k from 3 to 16 and switching to Manhattan distance reduces the model's variance (overfitting) but also reduces its overall accuracy on the test set.\n",
    "Cross-Validation vs Test Set Accuracy:\n",
    "\n",
    "The cross-validation accuracy (56.7%) is consistent with the best test accuracy (54.5%). However, these accuracies indicate the model has room for improvement.\n"
   ]
  },
  {
   "cell_type": "code",
   "execution_count": null,
   "id": "4e814fb9-ded3-4d65-9b19-112a34361d35",
   "metadata": {},
   "outputs": [],
   "source": []
  }
 ],
 "metadata": {
  "kernelspec": {
   "display_name": "Python 3 (ipykernel)",
   "language": "python",
   "name": "python3"
  },
  "language_info": {
   "codemirror_mode": {
    "name": "ipython",
    "version": 3
   },
   "file_extension": ".py",
   "mimetype": "text/x-python",
   "name": "python",
   "nbconvert_exporter": "python",
   "pygments_lexer": "ipython3",
   "version": "3.10.12"
  }
 },
 "nbformat": 4,
 "nbformat_minor": 5
}
