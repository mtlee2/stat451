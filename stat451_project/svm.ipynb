{
 "cells": [
  {
   "cell_type": "code",
   "execution_count": 11,
   "id": "48778f6b-12ea-4953-a852-67f75a4b3537",
   "metadata": {},
   "outputs": [],
   "source": [
    "import numpy as np\n",
    "import pandas as pd\n",
    "import matplotlib.pyplot as plt\n",
    "from sklearn.svm import SVC\n",
    "from io import StringIO\n",
    "from sklearn.preprocessing import MinMaxScaler\n",
    "from sklearn.model_selection import train_test_split\n",
    "from sklearn.model_selection import GridSearchCV\n",
    "\n",
    "import clean as c"
   ]
  },
  {
   "cell_type": "code",
   "execution_count": 12,
   "id": "3f405b32-746e-4de2-b101-0535f28ebf9b",
   "metadata": {},
   "outputs": [],
   "source": [
    "df = c.df_b\n",
    "df1 = c.df1\n",
    "df2 = c.df2\n",
    "feats = c.feats"
   ]
  },
  {
   "cell_type": "code",
   "execution_count": 13,
   "id": "6e4e5e80-fba3-47fc-8645-181c5d1a72a1",
   "metadata": {},
   "outputs": [],
   "source": [
    "X = df1[feats]\n",
    "y = df1['Out_b']"
   ]
  },
  {
   "cell_type": "code",
   "execution_count": 14,
   "id": "16dcf2b5-869b-4122-b0b4-b067fed1534a",
   "metadata": {},
   "outputs": [],
   "source": [
    "scaler = MinMaxScaler()\n",
    "X_scaled = scaler.fit_transform(X)\n",
    "X_train, X_test, y_train, y_test = train_test_split(X_scaled, y, test_size=0.2, random_state=42)"
   ]
  },
  {
   "cell_type": "code",
   "execution_count": 15,
   "id": "f9a2c339-4fdd-463b-8787-619e95e84bae",
   "metadata": {},
   "outputs": [
    {
     "name": "stdout",
     "output_type": "stream",
     "text": [
      "SVM Training Accuracy: 0.757\n",
      "SVM Testing Accuracy: 0.409\n"
     ]
    }
   ],
   "source": [
    "vm = SVC(kernel='rbf', C=1.0, gamma='scale', random_state=42)  # RBF kernel\n",
    "vm.fit(X_train, y_train)\n",
    "\n",
    "train_accuracy = vm.score(X_train, y_train)\n",
    "test_accuracy = vm.score(X_test, y_test)\n",
    "\n",
    "print(f\"SVM Training Accuracy: {train_accuracy:.3f}\")\n",
    "print(f\"SVM Testing Accuracy: {test_accuracy:.3f}\")"
   ]
  },
  {
   "cell_type": "code",
   "execution_count": 16,
   "id": "d689ef01-200d-4b67-92c0-f01cbc4fd324",
   "metadata": {},
   "outputs": [
    {
     "name": "stdout",
     "output_type": "stream",
     "text": [
      "Best Parameters: {'C': 100, 'gamma': 'scale', 'kernel': 'rbf'}\n",
      "Best Cross-Validation Accuracy: 0.574\n",
      "Best SVM Testing Accuracy: 0.515\n"
     ]
    }
   ],
   "source": [
    "\n",
    "# Define the parameter grid\n",
    "param_grid = {\n",
    "    'C': [0.1, 1, 10, 100],\n",
    "    'gamma': ['scale', 'auto', 0.1, 0.01, 0.001],\n",
    "    'kernel': ['rbf', 'linear', 'poly']\n",
    "}\n",
    "grid_search = GridSearchCV(SVC(random_state=42), param_grid, cv=5, scoring='accuracy')\n",
    "grid_search.fit(X_train, y_train)\n",
    "\n",
    "print(f\"Best Parameters: {grid_search.best_params_}\")\n",
    "print(f\"Best Cross-Validation Accuracy: {grid_search.best_score_:.3f}\")\n",
    "\n",
    "\n",
    "# Evaluate the best model on the test set\n",
    "best_svm = grid_search.best_estimator_\n",
    "test_accuracy = best_svm.score(X_test, y_test)\n",
    "print(f\"Best SVM Testing Accuracy: {test_accuracy:.3f}\")"
   ]
  },
  {
   "cell_type": "code",
   "execution_count": null,
   "id": "28c352ab-7e13-40b3-b38a-00818b7d05a4",
   "metadata": {},
   "outputs": [],
   "source": []
  },
  {
   "cell_type": "code",
   "execution_count": null,
   "id": "e369f422-e025-460f-945e-f6ed676c94bf",
   "metadata": {},
   "outputs": [],
   "source": []
  }
 ],
 "metadata": {
  "kernelspec": {
   "display_name": "Python 3 (ipykernel)",
   "language": "python",
   "name": "python3"
  },
  "language_info": {
   "codemirror_mode": {
    "name": "ipython",
    "version": 3
   },
   "file_extension": ".py",
   "mimetype": "text/x-python",
   "name": "python",
   "nbconvert_exporter": "python",
   "pygments_lexer": "ipython3",
   "version": "3.10.12"
  }
 },
 "nbformat": 4,
 "nbformat_minor": 5
}
