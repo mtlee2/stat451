{
 "cells": [
  {
   "cell_type": "markdown",
   "id": "afcaad08-69d2-46c1-8b57-074ab3635837",
   "metadata": {},
   "source": [
    "# Stat 451 Project\n",
    "### Mental Health Diagnosis and Treatment Monitoring\n",
    "Group 28: \n",
    "1. Mai Tah Lee mtlee2@wisc.edu\n",
    "2. Annie Purisch apurisch@wisc.edu\n",
    "3. Seth Mlodzik smlodzik@wisc.edu\n",
    "4. Tianxing Liu tliu398@wisc.edu\n",
    "\n",
    "Link: https://www.kaggle.com/datasets/uom190346a/mental-health-diagnosis-and-treatment-monitoring"
   ]
  },
  {
   "cell_type": "code",
   "execution_count": 19,
   "id": "7c5a5dfe-c124-43de-9099-2935cb6e753a",
   "metadata": {},
   "outputs": [],
   "source": [
    "import pandas as pd\n",
    "import numpy as np\n",
    "import matplotlib.pyplot as plt\n",
    "from sklearn import linear_model, svm\n",
    "from sklearn.preprocessing import LabelEncoder\n",
    "from sklearn.model_selection import cross_val_score\n",
    "from sklearn.metrics import classification_report, roc_auc_score\n",
    "from sklearn.tree import DecisionTreeClassifier, DecisionTreeRegressor\n",
    "from sklearn import tree\n",
    "\n",
    "\n",
    "df = pd.read_csv(\"mental_health_diagnosis_treatment_.csv\")"
   ]
  },
  {
   "cell_type": "markdown",
   "id": "d12fe66e-dffd-415c-bfc7-a212caf497c7",
   "metadata": {},
   "source": [
    "## Preliminary Measures"
   ]
  },
  {
   "cell_type": "code",
   "execution_count": 2,
   "id": "54b83fec-0d4b-48b7-9bd9-f40bedac6ff7",
   "metadata": {},
   "outputs": [
    {
     "data": {
      "text/html": [
       "<div>\n",
       "<style scoped>\n",
       "    .dataframe tbody tr th:only-of-type {\n",
       "        vertical-align: middle;\n",
       "    }\n",
       "\n",
       "    .dataframe tbody tr th {\n",
       "        vertical-align: top;\n",
       "    }\n",
       "\n",
       "    .dataframe thead th {\n",
       "        text-align: right;\n",
       "    }\n",
       "</style>\n",
       "<table border=\"1\" class=\"dataframe\">\n",
       "  <thead>\n",
       "    <tr style=\"text-align: right;\">\n",
       "      <th></th>\n",
       "      <th>Patient ID</th>\n",
       "      <th>Age</th>\n",
       "      <th>Gender</th>\n",
       "      <th>Diagnosis</th>\n",
       "      <th>Symptom Severity (1-10)</th>\n",
       "      <th>Mood Score (1-10)</th>\n",
       "      <th>Sleep Quality (1-10)</th>\n",
       "      <th>Physical Activity (hrs/week)</th>\n",
       "      <th>Medication</th>\n",
       "      <th>Therapy Type</th>\n",
       "      <th>Treatment Start Date</th>\n",
       "      <th>Treatment Duration (weeks)</th>\n",
       "      <th>Stress Level (1-10)</th>\n",
       "      <th>Outcome</th>\n",
       "      <th>Treatment Progress (1-10)</th>\n",
       "      <th>AI-Detected Emotional State</th>\n",
       "      <th>Adherence to Treatment (%)</th>\n",
       "    </tr>\n",
       "  </thead>\n",
       "  <tbody>\n",
       "    <tr>\n",
       "      <th>0</th>\n",
       "      <td>1</td>\n",
       "      <td>43</td>\n",
       "      <td>Female</td>\n",
       "      <td>Major Depressive Disorder</td>\n",
       "      <td>10</td>\n",
       "      <td>5</td>\n",
       "      <td>8</td>\n",
       "      <td>5</td>\n",
       "      <td>Mood Stabilizers</td>\n",
       "      <td>Interpersonal Therapy</td>\n",
       "      <td>2024-01-25</td>\n",
       "      <td>11</td>\n",
       "      <td>9</td>\n",
       "      <td>Deteriorated</td>\n",
       "      <td>7</td>\n",
       "      <td>Anxious</td>\n",
       "      <td>66</td>\n",
       "    </tr>\n",
       "    <tr>\n",
       "      <th>1</th>\n",
       "      <td>2</td>\n",
       "      <td>40</td>\n",
       "      <td>Female</td>\n",
       "      <td>Major Depressive Disorder</td>\n",
       "      <td>9</td>\n",
       "      <td>5</td>\n",
       "      <td>4</td>\n",
       "      <td>7</td>\n",
       "      <td>Antipsychotics</td>\n",
       "      <td>Interpersonal Therapy</td>\n",
       "      <td>2024-02-27</td>\n",
       "      <td>11</td>\n",
       "      <td>7</td>\n",
       "      <td>No Change</td>\n",
       "      <td>7</td>\n",
       "      <td>Neutral</td>\n",
       "      <td>78</td>\n",
       "    </tr>\n",
       "    <tr>\n",
       "      <th>2</th>\n",
       "      <td>3</td>\n",
       "      <td>55</td>\n",
       "      <td>Female</td>\n",
       "      <td>Major Depressive Disorder</td>\n",
       "      <td>6</td>\n",
       "      <td>3</td>\n",
       "      <td>4</td>\n",
       "      <td>3</td>\n",
       "      <td>SSRIs</td>\n",
       "      <td>Mindfulness-Based Therapy</td>\n",
       "      <td>2024-03-20</td>\n",
       "      <td>14</td>\n",
       "      <td>7</td>\n",
       "      <td>Deteriorated</td>\n",
       "      <td>5</td>\n",
       "      <td>Happy</td>\n",
       "      <td>62</td>\n",
       "    </tr>\n",
       "    <tr>\n",
       "      <th>3</th>\n",
       "      <td>4</td>\n",
       "      <td>34</td>\n",
       "      <td>Female</td>\n",
       "      <td>Major Depressive Disorder</td>\n",
       "      <td>6</td>\n",
       "      <td>3</td>\n",
       "      <td>6</td>\n",
       "      <td>5</td>\n",
       "      <td>SSRIs</td>\n",
       "      <td>Mindfulness-Based Therapy</td>\n",
       "      <td>2024-03-29</td>\n",
       "      <td>8</td>\n",
       "      <td>8</td>\n",
       "      <td>Deteriorated</td>\n",
       "      <td>10</td>\n",
       "      <td>Excited</td>\n",
       "      <td>72</td>\n",
       "    </tr>\n",
       "    <tr>\n",
       "      <th>4</th>\n",
       "      <td>5</td>\n",
       "      <td>52</td>\n",
       "      <td>Male</td>\n",
       "      <td>Panic Disorder</td>\n",
       "      <td>7</td>\n",
       "      <td>6</td>\n",
       "      <td>6</td>\n",
       "      <td>8</td>\n",
       "      <td>Anxiolytics</td>\n",
       "      <td>Interpersonal Therapy</td>\n",
       "      <td>2024-03-18</td>\n",
       "      <td>12</td>\n",
       "      <td>5</td>\n",
       "      <td>Deteriorated</td>\n",
       "      <td>6</td>\n",
       "      <td>Excited</td>\n",
       "      <td>63</td>\n",
       "    </tr>\n",
       "    <tr>\n",
       "      <th>...</th>\n",
       "      <td>...</td>\n",
       "      <td>...</td>\n",
       "      <td>...</td>\n",
       "      <td>...</td>\n",
       "      <td>...</td>\n",
       "      <td>...</td>\n",
       "      <td>...</td>\n",
       "      <td>...</td>\n",
       "      <td>...</td>\n",
       "      <td>...</td>\n",
       "      <td>...</td>\n",
       "      <td>...</td>\n",
       "      <td>...</td>\n",
       "      <td>...</td>\n",
       "      <td>...</td>\n",
       "      <td>...</td>\n",
       "      <td>...</td>\n",
       "    </tr>\n",
       "    <tr>\n",
       "      <th>495</th>\n",
       "      <td>496</td>\n",
       "      <td>24</td>\n",
       "      <td>Male</td>\n",
       "      <td>Generalized Anxiety</td>\n",
       "      <td>10</td>\n",
       "      <td>4</td>\n",
       "      <td>8</td>\n",
       "      <td>6</td>\n",
       "      <td>Mood Stabilizers</td>\n",
       "      <td>Dialectical Behavioral Therapy</td>\n",
       "      <td>2024-04-09</td>\n",
       "      <td>8</td>\n",
       "      <td>9</td>\n",
       "      <td>Improved</td>\n",
       "      <td>10</td>\n",
       "      <td>Depressed</td>\n",
       "      <td>73</td>\n",
       "    </tr>\n",
       "    <tr>\n",
       "      <th>496</th>\n",
       "      <td>497</td>\n",
       "      <td>22</td>\n",
       "      <td>Male</td>\n",
       "      <td>Panic Disorder</td>\n",
       "      <td>5</td>\n",
       "      <td>6</td>\n",
       "      <td>6</td>\n",
       "      <td>7</td>\n",
       "      <td>Benzodiazepines</td>\n",
       "      <td>Mindfulness-Based Therapy</td>\n",
       "      <td>2024-02-05</td>\n",
       "      <td>13</td>\n",
       "      <td>6</td>\n",
       "      <td>Deteriorated</td>\n",
       "      <td>8</td>\n",
       "      <td>Happy</td>\n",
       "      <td>86</td>\n",
       "    </tr>\n",
       "    <tr>\n",
       "      <th>497</th>\n",
       "      <td>498</td>\n",
       "      <td>23</td>\n",
       "      <td>Male</td>\n",
       "      <td>Major Depressive Disorder</td>\n",
       "      <td>7</td>\n",
       "      <td>3</td>\n",
       "      <td>4</td>\n",
       "      <td>2</td>\n",
       "      <td>Antidepressants</td>\n",
       "      <td>Cognitive Behavioral Therapy</td>\n",
       "      <td>2024-03-24</td>\n",
       "      <td>10</td>\n",
       "      <td>5</td>\n",
       "      <td>Deteriorated</td>\n",
       "      <td>5</td>\n",
       "      <td>Neutral</td>\n",
       "      <td>87</td>\n",
       "    </tr>\n",
       "    <tr>\n",
       "      <th>498</th>\n",
       "      <td>499</td>\n",
       "      <td>48</td>\n",
       "      <td>Male</td>\n",
       "      <td>Bipolar Disorder</td>\n",
       "      <td>9</td>\n",
       "      <td>4</td>\n",
       "      <td>6</td>\n",
       "      <td>9</td>\n",
       "      <td>Antidepressants</td>\n",
       "      <td>Mindfulness-Based Therapy</td>\n",
       "      <td>2024-03-22</td>\n",
       "      <td>10</td>\n",
       "      <td>6</td>\n",
       "      <td>Improved</td>\n",
       "      <td>7</td>\n",
       "      <td>Anxious</td>\n",
       "      <td>73</td>\n",
       "    </tr>\n",
       "    <tr>\n",
       "      <th>499</th>\n",
       "      <td>500</td>\n",
       "      <td>58</td>\n",
       "      <td>Male</td>\n",
       "      <td>Bipolar Disorder</td>\n",
       "      <td>5</td>\n",
       "      <td>7</td>\n",
       "      <td>6</td>\n",
       "      <td>2</td>\n",
       "      <td>SSRIs</td>\n",
       "      <td>Cognitive Behavioral Therapy</td>\n",
       "      <td>2024-03-24</td>\n",
       "      <td>10</td>\n",
       "      <td>6</td>\n",
       "      <td>Deteriorated</td>\n",
       "      <td>5</td>\n",
       "      <td>Happy</td>\n",
       "      <td>70</td>\n",
       "    </tr>\n",
       "  </tbody>\n",
       "</table>\n",
       "<p>500 rows × 17 columns</p>\n",
       "</div>"
      ],
      "text/plain": [
       "     Patient ID  Age  Gender                  Diagnosis  \\\n",
       "0             1   43  Female  Major Depressive Disorder   \n",
       "1             2   40  Female  Major Depressive Disorder   \n",
       "2             3   55  Female  Major Depressive Disorder   \n",
       "3             4   34  Female  Major Depressive Disorder   \n",
       "4             5   52    Male             Panic Disorder   \n",
       "..          ...  ...     ...                        ...   \n",
       "495         496   24    Male        Generalized Anxiety   \n",
       "496         497   22    Male             Panic Disorder   \n",
       "497         498   23    Male  Major Depressive Disorder   \n",
       "498         499   48    Male           Bipolar Disorder   \n",
       "499         500   58    Male           Bipolar Disorder   \n",
       "\n",
       "     Symptom Severity (1-10)  Mood Score (1-10)  Sleep Quality (1-10)  \\\n",
       "0                         10                  5                     8   \n",
       "1                          9                  5                     4   \n",
       "2                          6                  3                     4   \n",
       "3                          6                  3                     6   \n",
       "4                          7                  6                     6   \n",
       "..                       ...                ...                   ...   \n",
       "495                       10                  4                     8   \n",
       "496                        5                  6                     6   \n",
       "497                        7                  3                     4   \n",
       "498                        9                  4                     6   \n",
       "499                        5                  7                     6   \n",
       "\n",
       "     Physical Activity (hrs/week)        Medication  \\\n",
       "0                               5  Mood Stabilizers   \n",
       "1                               7    Antipsychotics   \n",
       "2                               3             SSRIs   \n",
       "3                               5             SSRIs   \n",
       "4                               8       Anxiolytics   \n",
       "..                            ...               ...   \n",
       "495                             6  Mood Stabilizers   \n",
       "496                             7   Benzodiazepines   \n",
       "497                             2   Antidepressants   \n",
       "498                             9   Antidepressants   \n",
       "499                             2             SSRIs   \n",
       "\n",
       "                       Therapy Type Treatment Start Date  \\\n",
       "0             Interpersonal Therapy           2024-01-25   \n",
       "1             Interpersonal Therapy           2024-02-27   \n",
       "2         Mindfulness-Based Therapy           2024-03-20   \n",
       "3         Mindfulness-Based Therapy           2024-03-29   \n",
       "4             Interpersonal Therapy           2024-03-18   \n",
       "..                              ...                  ...   \n",
       "495  Dialectical Behavioral Therapy           2024-04-09   \n",
       "496       Mindfulness-Based Therapy           2024-02-05   \n",
       "497    Cognitive Behavioral Therapy           2024-03-24   \n",
       "498       Mindfulness-Based Therapy           2024-03-22   \n",
       "499    Cognitive Behavioral Therapy           2024-03-24   \n",
       "\n",
       "     Treatment Duration (weeks)  Stress Level (1-10)       Outcome  \\\n",
       "0                            11                    9  Deteriorated   \n",
       "1                            11                    7     No Change   \n",
       "2                            14                    7  Deteriorated   \n",
       "3                             8                    8  Deteriorated   \n",
       "4                            12                    5  Deteriorated   \n",
       "..                          ...                  ...           ...   \n",
       "495                           8                    9      Improved   \n",
       "496                          13                    6  Deteriorated   \n",
       "497                          10                    5  Deteriorated   \n",
       "498                          10                    6      Improved   \n",
       "499                          10                    6  Deteriorated   \n",
       "\n",
       "     Treatment Progress (1-10) AI-Detected Emotional State  \\\n",
       "0                            7                     Anxious   \n",
       "1                            7                     Neutral   \n",
       "2                            5                       Happy   \n",
       "3                           10                     Excited   \n",
       "4                            6                     Excited   \n",
       "..                         ...                         ...   \n",
       "495                         10                   Depressed   \n",
       "496                          8                       Happy   \n",
       "497                          5                     Neutral   \n",
       "498                          7                     Anxious   \n",
       "499                          5                       Happy   \n",
       "\n",
       "     Adherence to Treatment (%)  \n",
       "0                            66  \n",
       "1                            78  \n",
       "2                            62  \n",
       "3                            72  \n",
       "4                            63  \n",
       "..                          ...  \n",
       "495                          73  \n",
       "496                          86  \n",
       "497                          87  \n",
       "498                          73  \n",
       "499                          70  \n",
       "\n",
       "[500 rows x 17 columns]"
      ]
     },
     "execution_count": 2,
     "metadata": {},
     "output_type": "execute_result"
    }
   ],
   "source": [
    "df"
   ]
  },
  {
   "cell_type": "code",
   "execution_count": 3,
   "id": "a6c5a98e-93c3-439d-a681-6aadf4ff3ae2",
   "metadata": {},
   "outputs": [
    {
     "name": "stdout",
     "output_type": "stream",
     "text": [
      "<class 'pandas.core.frame.DataFrame'>\n",
      "RangeIndex: 500 entries, 0 to 499\n",
      "Data columns (total 17 columns):\n",
      " #   Column                        Non-Null Count  Dtype \n",
      "---  ------                        --------------  ----- \n",
      " 0   Patient ID                    500 non-null    int64 \n",
      " 1   Age                           500 non-null    int64 \n",
      " 2   Gender                        500 non-null    object\n",
      " 3   Diagnosis                     500 non-null    object\n",
      " 4   Symptom Severity (1-10)       500 non-null    int64 \n",
      " 5   Mood Score (1-10)             500 non-null    int64 \n",
      " 6   Sleep Quality (1-10)          500 non-null    int64 \n",
      " 7   Physical Activity (hrs/week)  500 non-null    int64 \n",
      " 8   Medication                    500 non-null    object\n",
      " 9   Therapy Type                  500 non-null    object\n",
      " 10  Treatment Start Date          500 non-null    object\n",
      " 11  Treatment Duration (weeks)    500 non-null    int64 \n",
      " 12  Stress Level (1-10)           500 non-null    int64 \n",
      " 13  Outcome                       500 non-null    object\n",
      " 14  Treatment Progress (1-10)     500 non-null    int64 \n",
      " 15  AI-Detected Emotional State   500 non-null    object\n",
      " 16  Adherence to Treatment (%)    500 non-null    int64 \n",
      "dtypes: int64(10), object(7)\n",
      "memory usage: 66.5+ KB\n"
     ]
    }
   ],
   "source": [
    "df.info()"
   ]
  },
  {
   "cell_type": "markdown",
   "id": "2b15f7c4-5e28-46e3-a66e-8cd53ccedc4b",
   "metadata": {},
   "source": [
    "### Data Cleaning\n",
    "Make necessary features binary (e.g., gender).\n",
    "1. Gender\n",
    "2. Symptom Severity (1-10)\n",
    "3. Mood Score (1-10)    \n",
    "4. Sleep Quality (1-10)\n",
    "5. Stress Level (1-10)\n",
    "6. Treatment Progress (1-10)\n",
    "7. Adherence to Treatment (%)\n",
    "\n",
    "        \n",
    "Features scaled from 1-10 are recoded as either 0=(<5) and 1=(>5), being rated higher than 5 means that their is significant change within those scales. While the feature, adherence to treatment is coded as 1=greater than 80%, and 0=less than 80, which denotes for adhering to the treatment"
   ]
  },
  {
   "cell_type": "code",
   "execution_count": 4,
   "id": "7695b92c-897f-4091-9bb5-fa47253da540",
   "metadata": {},
   "outputs": [],
   "source": [
    "# binomial gender\n",
    "df_b = df.copy()\n",
    "df_b['Gender'] = df_b['Gender'].map({'Female':1, 'Male':0})"
   ]
  },
  {
   "cell_type": "code",
   "execution_count": 5,
   "id": "e1a747ee-a19e-4d65-a2b9-f6af105e1b72",
   "metadata": {},
   "outputs": [],
   "source": [
    "# make rating scaled features binary\n",
    "features = ['Symptom Severity (1-10)', 'Sleep Quality (1-10)', 'Mood Score (1-10)', 'Stress Level (1-10)', 'Treatment Progress (1-10)']\n",
    "\n",
    "for feat in features:\n",
    "    df_b[feat] = (df_b[feat] > 5).astype(int)\n",
    "    \n",
    "df_b[\"Adherence to Treatment (%)\"] = (df_b[\"Adherence to Treatment (%)\"] > 80).astype(int)\n"
   ]
  },
  {
   "cell_type": "markdown",
   "id": "b111bb55-f4ac-486c-aad3-cf8c1debed08",
   "metadata": {},
   "source": [
    "### Numericalize Categorical Values with LabelEncoder\n",
    "1. Mediation\n",
    "2. Therapy Type\n",
    "3. AI-Detected Emotional State\n",
    "4. Diagnosis"
   ]
  },
  {
   "cell_type": "code",
   "execution_count": 6,
   "id": "73994913-edf8-40bc-b94b-03bbd41fb3f4",
   "metadata": {},
   "outputs": [],
   "source": [
    "# use labelEncoder to numericalize categorical values\n",
    "encoder = LabelEncoder()\n",
    "\n",
    "encode = [\"Medication\", \"Therapy Type\", \"AI-Detected Emotional State\", \"Diagnosis\"]\n",
    "encode_n = [\"Med_n\", \"Therapy_n\", \"Emot_n\", \"Diag_n\"]\n",
    "\n",
    "for i in range(len(encode)):\n",
    "    df_b[encode_n[i]] = encoder.fit_transform(df_b[encode[i]])\n",
    "    \n",
    "\n",
    "    "
   ]
  },
  {
   "cell_type": "code",
   "execution_count": 7,
   "id": "20e4cbe1-392e-4f67-9f8d-51c365e45ce8",
   "metadata": {},
   "outputs": [],
   "source": [
    "# drop start date\n",
    "df_b = df_b.drop(\"Treatment Start Date\", axis=\"columns\")"
   ]
  },
  {
   "cell_type": "markdown",
   "id": "68fe6fd3-ba04-4b87-ab5a-21529ac84922",
   "metadata": {},
   "source": [
    "### Important Feature: Outcome\n",
    "\n",
    "Create 2 different dataframes that: \n",
    "\n",
    "1. Drop deterioriated: Focus only on no change and improve\n",
    "\n",
    "2. Drop improved: Focuse only on no change and deteriorated\n",
    "\n",
    "\n",
    "This will intially make the values binary for two different outcomes. 0=no change, 1=improved/deteriorated"
   ]
  },
  {
   "cell_type": "code",
   "execution_count": 8,
   "id": "80583c65-9bee-4543-ac1c-2e70aa067160",
   "metadata": {},
   "outputs": [],
   "source": [
    "# Drop deteriorated \n",
    "df1 = df_b.copy()\n",
    "df2 = df_b.copy()\n",
    "\n",
    "# drop if outcome=deteriorated \n",
    "df1 = df1[df1['Outcome'] != 'Deteriorated']\n",
    "\n",
    "# drop if outcome=improve\n",
    "df2 = df2[df2['Outcome'] != 'Improved']\n",
    "\n",
    "df1['Out_b'] = df1['Outcome'].map({'No Change': 0, 'Improved':1})\n",
    "df2['Out_b'] = df2['Outcome'].map({'No Change': 0, 'Deteriorated':1})"
   ]
  },
  {
   "cell_type": "markdown",
   "id": "006b1374-71c2-4b90-be7e-96275a3de6b7",
   "metadata": {},
   "source": [
    "## Feature Importance to Logistic Regression"
   ]
  },
  {
   "cell_type": "code",
   "execution_count": 9,
   "id": "dd5ea442-8e51-485a-830f-224904ed09ee",
   "metadata": {},
   "outputs": [
    {
     "name": "stdout",
     "output_type": "stream",
     "text": [
      "                     Feature  Importance\n",
      "4  Treatment Progress (1-10)    0.244637\n",
      "3        Stress Level (1-10)    0.180013\n",
      "2          Mood Score (1-10)    0.151808\n",
      "0    Symptom Severity (1-10)   -0.177218\n",
      "1       Sleep Quality (1-10)   -0.309771\n"
     ]
    }
   ],
   "source": [
    "X = df1[features]\n",
    "y = df1['Outcome'] # for no change & improved \n",
    "model = linear_model.LogisticRegression()\n",
    "model.fit(X,y)\n",
    "\n",
    "importance = pd.DataFrame({\n",
    "    'Feature': X.columns,\n",
    "    'Importance': model.coef_[0]\n",
    "}).sort_values(by='Importance', ascending=False)\n",
    "\n",
    "print(importance)"
   ]
  },
  {
   "cell_type": "code",
   "execution_count": 10,
   "id": "67a9ca5f-2eb0-431d-bed2-039657b00c91",
   "metadata": {},
   "outputs": [
    {
     "name": "stdout",
     "output_type": "stream",
     "text": [
      "                     Feature  Importance\n",
      "4  Treatment Progress (1-10)    0.521745\n",
      "2          Mood Score (1-10)    0.275338\n",
      "0    Symptom Severity (1-10)   -0.230991\n",
      "3        Stress Level (1-10)   -0.306581\n",
      "1       Sleep Quality (1-10)   -0.335855\n"
     ]
    }
   ],
   "source": [
    "X = df2[features]\n",
    "y = df2['Outcome'] # for no change & deter\n",
    "model = linear_model.LogisticRegression()\n",
    "model.fit(X,y)\n",
    "\n",
    "importance = pd.DataFrame({\n",
    "    'Feature': X.columns,\n",
    "    'Importance': model.coef_[0]\n",
    "}).sort_values(by='Importance', ascending=False)\n",
    "\n",
    "print(importance)"
   ]
  },
  {
   "cell_type": "code",
   "execution_count": 11,
   "id": "a7c79a2d-19ca-4aaa-8763-758f472f3ee1",
   "metadata": {},
   "outputs": [
    {
     "name": "stdout",
     "output_type": "stream",
     "text": [
      "     Feature  Importance\n",
      "3     Diag_n    0.078957\n",
      "1  Therapy_n    0.051382\n",
      "0      Med_n   -0.022722\n",
      "2     Emot_n   -0.063074\n"
     ]
    }
   ],
   "source": [
    "X = df1[encode_n]\n",
    "y = df1['Outcome']\n",
    "model = linear_model.LogisticRegression()\n",
    "model.fit(X,y)\n",
    "\n",
    "importance = pd.DataFrame({\n",
    "    'Feature': X.columns,\n",
    "    'Importance': model.coef_[0]\n",
    "}).sort_values(by='Importance', ascending=False)\n",
    "\n",
    "print(importance)"
   ]
  },
  {
   "cell_type": "code",
   "execution_count": 12,
   "id": "543dacac-94a3-484a-b382-13200ce58d75",
   "metadata": {},
   "outputs": [
    {
     "name": "stdout",
     "output_type": "stream",
     "text": [
      "     Feature  Importance\n",
      "0      Med_n    0.103152\n",
      "2     Emot_n    0.026927\n",
      "3     Diag_n   -0.021898\n",
      "1  Therapy_n   -0.083610\n"
     ]
    }
   ],
   "source": [
    "X = df2[encode_n]\n",
    "y = df2['Outcome']\n",
    "model = linear_model.LogisticRegression()\n",
    "model.fit(X,y)\n",
    "\n",
    "importance = pd.DataFrame({\n",
    "    'Feature': X.columns,\n",
    "    'Importance': model.coef_[0]\n",
    "}).sort_values(by='Importance', ascending=False)\n",
    "\n",
    "print(importance)"
   ]
  },
  {
   "cell_type": "code",
   "execution_count": 13,
   "id": "35cb7273-aa3d-4b4d-8852-4e8a880769d7",
   "metadata": {},
   "outputs": [
    {
     "name": "stdout",
     "output_type": "stream",
     "text": [
      "Logistic Regression accuracy = 0.5197568389057751\n"
     ]
    }
   ],
   "source": [
    "X = df1[['Treatment Progress (1-10)', 'Stress Level (1-10)', 'Mood Score (1-10)']]\n",
    "y = df1['Outcome']\n",
    "\n",
    "model = linear_model.LogisticRegression(class_weight='balanced', random_state=0)\n",
    "model.fit(X, y)\n",
    "print(f\"Logistic Regression accuracy = {model.score(X, y)}\")"
   ]
  },
  {
   "cell_type": "markdown",
   "id": "6bc3ae7c-10c1-42f6-92ef-16fb31d43ae3",
   "metadata": {},
   "source": [
    "Features: \n",
    "1. Treatment Progress\n",
    "2. Stress level\n",
    "3. Mood Score\n",
    "\n",
    "\n",
    "Shows positive predictors"
   ]
  },
  {
   "cell_type": "code",
   "execution_count": 14,
   "id": "520d2375-887e-4cb6-8b6f-d084bc3cb706",
   "metadata": {},
   "outputs": [
    {
     "name": "stdout",
     "output_type": "stream",
     "text": [
      "Intercept=-0.3596880125577921\n",
      "Coefficient=[0.20562397 0.14927444 0.12649911]\n"
     ]
    }
   ],
   "source": [
    "b = model.intercept_[0]\n",
    "w = model.coef_[0]\n",
    "print(f\"Intercept={b}\\nCoefficient={w}\")"
   ]
  },
  {
   "cell_type": "code",
   "execution_count": 15,
   "id": "7b6c48ac-4170-4136-886d-17a05da8ac57",
   "metadata": {},
   "outputs": [
    {
     "name": "stdout",
     "output_type": "stream",
     "text": [
      "              precision    recall  f1-score   support\n",
      "\n",
      "    Improved       0.53      0.66      0.59       170\n",
      "   No Change       0.50      0.37      0.43       159\n",
      "\n",
      "    accuracy                           0.52       329\n",
      "   macro avg       0.52      0.51      0.51       329\n",
      "weighted avg       0.52      0.52      0.51       329\n",
      "\n",
      "AUC-ROC: 0.5316500184979651\n"
     ]
    }
   ],
   "source": [
    "y_pred = model.predict(X)\n",
    "y_pred_prob = model.predict_proba(X)[:, 1]\n",
    "print(classification_report(y, y_pred))\n",
    "auc_score = roc_auc_score(y, y_pred_prob)\n",
    "print(f\"AUC-ROC: {auc_score}\")"
   ]
  },
  {
   "cell_type": "code",
   "execution_count": null,
   "id": "03044f25-36c8-4403-97da-4ec00adddb9c",
   "metadata": {},
   "outputs": [],
   "source": []
  },
  {
   "cell_type": "code",
   "execution_count": null,
   "id": "bc064e15-60b7-4df5-bedd-be3d88b546e6",
   "metadata": {},
   "outputs": [],
   "source": []
  },
  {
   "cell_type": "markdown",
   "id": "49a8190d-a6b9-4b34-ae21-dd4ab961a8c8",
   "metadata": {},
   "source": [
    "## Decision Tree"
   ]
  },
  {
   "cell_type": "code",
   "execution_count": 17,
   "id": "92f7c2f9-3eab-46c8-b476-7995fdf3922f",
   "metadata": {},
   "outputs": [],
   "source": [
    "allFeat = features + encode"
   ]
  },
  {
   "cell_type": "code",
   "execution_count": 22,
   "id": "0800dab9-80fa-4a59-a162-de6483d52502",
   "metadata": {},
   "outputs": [
    {
     "data": {
      "text/plain": [
       "['Symptom Severity (1-10)',\n",
       " 'Sleep Quality (1-10)',\n",
       " 'Mood Score (1-10)',\n",
       " 'Stress Level (1-10)',\n",
       " 'Treatment Progress (1-10)',\n",
       " 'Medication',\n",
       " 'Therapy Type',\n",
       " 'AI-Detected Emotional State',\n",
       " 'Diagnosis']"
      ]
     },
     "execution_count": 22,
     "metadata": {},
     "output_type": "execute_result"
    }
   ],
   "source": [
    "allFeat"
   ]
  },
  {
   "cell_type": "code",
   "execution_count": null,
   "id": "69f4b145-06db-422b-a7a2-db526d6b7c8e",
   "metadata": {},
   "outputs": [],
   "source": [
    "\n"
   ]
  },
  {
   "cell_type": "markdown",
   "id": "f49da851-a5a0-4728-8b88-dc06c7026115",
   "metadata": {
    "tags": []
   },
   "source": [
    "## Exploratory Data Analysis"
   ]
  },
  {
   "cell_type": "code",
   "execution_count": null,
   "id": "99485a6b-1116-440d-ad79-dd5c67f48ef9",
   "metadata": {},
   "outputs": [],
   "source": [
    "df1['Outcome'].value_counts(normalize=True)"
   ]
  },
  {
   "cell_type": "code",
   "execution_count": null,
   "id": "6eebdd68-ac15-4acc-9925-6e94bacb9c00",
   "metadata": {},
   "outputs": [],
   "source": [
    "df2['Outcome'].value_counts(normalize=True)"
   ]
  },
  {
   "cell_type": "markdown",
   "id": "f58091d3-218c-4a4c-b7da-d4987d5e6cb8",
   "metadata": {},
   "source": [
    "There exists similar distribution of binary outcomes from either deteriorated or improved."
   ]
  },
  {
   "cell_type": "code",
   "execution_count": null,
   "id": "3b95f7cf-0227-4230-87b1-d3b84d306e5d",
   "metadata": {},
   "outputs": [],
   "source": [
    "\n"
   ]
  },
  {
   "cell_type": "code",
   "execution_count": null,
   "id": "c9aa4b7b-9040-4c97-9cbc-1f966838ad1d",
   "metadata": {},
   "outputs": [],
   "source": []
  }
 ],
 "metadata": {
  "kernelspec": {
   "display_name": "Python 3 (ipykernel)",
   "language": "python",
   "name": "python3"
  },
  "language_info": {
   "codemirror_mode": {
    "name": "ipython",
    "version": 3
   },
   "file_extension": ".py",
   "mimetype": "text/x-python",
   "name": "python",
   "nbconvert_exporter": "python",
   "pygments_lexer": "ipython3",
   "version": "3.10.12"
  }
 },
 "nbformat": 4,
 "nbformat_minor": 5
}
